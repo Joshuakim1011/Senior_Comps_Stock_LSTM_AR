{
  "nbformat": 4,
  "nbformat_minor": 0,
  "metadata": {
    "colab": {
      "name": "AR models and performance check.ipynb",
      "provenance": [],
      "collapsed_sections": []
    },
    "kernelspec": {
      "name": "python3",
      "display_name": "Python 3"
    }
  },
  "cells": [
    {
      "cell_type": "code",
      "metadata": {
        "id": "ADBcblXoiDJm",
        "colab_type": "code",
        "outputId": "210176a6-0e59-4a0e-a038-322ec9986f53",
        "colab": {
          "base_uri": "https://localhost:8080/",
          "height": 141
        }
      },
      "source": [
        "# import libraries\n",
        "import pandas as pd\n",
        "import numpy as np\n",
        "from sklearn.model_selection import train_test_split\n",
        "from matplotlib import pyplot\n",
        "from google.colab import files\n",
        "from statsmodels.tsa.ar_model import AR\n",
        "from random import random\n",
        "from sklearn.metrics import mean_squared_error\n",
        "\n",
        "# read the data file\n",
        "# I ran the same block multiple times, just changing the name of the csv files to iterate through period 1~6\n",
        "df = pd.read_csv('returns_6.csv',header=None)\n",
        "data = df.to_numpy()\n",
        "data = np.array(data).ravel()\n",
        "\n",
        "train,test = train_test_split(data, train_size=0.9, test_size=0.1, shuffle=False)\n",
        "\n",
        "# train model\n",
        "model = AR(train)\n",
        "# maxlag = 1 for AR (1) and maxlag = 20 for AR (20)\n",
        "model_fit = model.fit(maxlag=1)\n",
        "window = model_fit.k_ar\n",
        "print(window) # check the number of autocorrelations being used\n",
        "coef = model_fit.params \n",
        "# save the autocorrelation coefficients\n",
        "\n",
        "# walk forward over time steps in test\n",
        "history = train[len(train)-window:]\n",
        "history = [history[i] for i in range(len(history))]\n",
        "predictions = []\n",
        "\n",
        "# AR makes predictions for the test period by using the autocorrelation coefficients acquired in training period\n",
        "for t in range(len(test)):\n",
        "\tlength = len(history)\n",
        "\tlag = [history[i] for i in range(length-window,length)]\n",
        "\tyhat = coef[0]\n",
        "\tfor d in range(window):\n",
        "\t\tyhat += coef[d+1] * lag[window-d-1]\n",
        "\tobs = test[t]\n",
        "\tpredictions=np.append(predictions,yhat)\n",
        "\thistory.append(obs)\n",
        "# error is measured as RMSE\n",
        "error = mean_squared_error(test, predictions,squared=False)\n",
        "print(\"RMSE: \"+ str(error))\n",
        "\n",
        "\n",
        "# same code as the second block in model performnace check\n",
        "positive=0\n",
        "negative=0\n",
        "f_positive=0\n",
        "f_negative=0\n",
        "for i in range(len(predictions)):\n",
        "    if predictions[i]>=0 and test[i]>=0:\n",
        "        positive=positive+1\n",
        "    elif predictions[i]>=0 and test[i]<0:\n",
        "        f_positive= f_positive+1\n",
        "    elif predictions[i]<0 and test[i]<0:\n",
        "        negative=negative+1\n",
        "    elif predictions[i]<0 and test[i]>=0:\n",
        "        f_negative=f_negative+1\n",
        "print (((positive+negative)/len(predictions))) #\"Directional accuracy: \"\n",
        "print ((positive/(positive+f_positive))) #'+ accuracy: '\n",
        "print ((negative/(negative+f_negative))) #'- accuracy: '\n",
        "print (((positive+f_positive)/len(predictions))) #'% of + prediction: '"
      ],
      "execution_count": 0,
      "outputs": [
        {
          "output_type": "stream",
          "text": [
            "1\n",
            "Test RMSE: 0.009\n",
            "0.00913466852415072\n",
            "0.49206349206349204\n",
            "0.5411255411255411\n",
            "0.41496598639455784\n",
            "0.6111111111111112\n"
          ],
          "name": "stdout"
        }
      ]
    },
    {
      "cell_type": "code",
      "metadata": {
        "id": "vXPjnk1B1a2f",
        "colab_type": "code",
        "colab": {}
      },
      "source": [
        ""
      ],
      "execution_count": 0,
      "outputs": []
    }
  ]
}