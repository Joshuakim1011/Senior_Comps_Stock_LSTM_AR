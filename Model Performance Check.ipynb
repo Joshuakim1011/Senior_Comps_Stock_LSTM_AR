{
 "cells": [
  {
   "cell_type": "code",
   "execution_count": 2,
   "metadata": {},
   "outputs": [
    {
     "name": "stdout",
     "output_type": "stream",
     "text": [
      "Starting $:\n",
      "103.519997\n",
      "Buy and hold at the end:\n",
      "68.559998\n",
      "lSTM at the end:\n",
      "128.19001799999998\n"
     ]
    }
   ],
   "source": [
    "## This block uses the buy and sell strategy extracted from the LSTM model\n",
    "## it returns how the model would have performed in comparison to the traditional buy-and-hold strategy\n",
    "\n",
    "# import libraries and open data\n",
    "import pandas as pd\n",
    "import numpy as np\n",
    "df= pd.read_csv('sp500.csv')\n",
    "pred = pd.read_csv('result_3.csv',header=None)\n",
    "\n",
    "df=df[df['Date']>=\"1973-07-10\"]  # set start date - 1 \n",
    "df=df[df['Date']<=\"1974-12-31\"]  # set end date \n",
    "df.drop(['Date','Open', 'High','Low','Close','Volume',], axis=1,inplace=True) # drop columns that aren't needed \n",
    "\n",
    "\n",
    "# convert to arrays\n",
    "pred=pred.to_numpy()\n",
    "df=df.to_numpy()\n",
    "pred=pred.flatten()\n",
    "df=df.flatten()\n",
    "\n",
    "# if the output (probability of stock going up tomorrow) is greater than or equal to .5, it's a buy signal (1)\n",
    "# if the output (probability of stock going up tomorrow) is less than .5, it's a sell signal (0)\n",
    "for i in range(len(pred)):\n",
    "    if pred[i]>=0.5:\n",
    "        pred[i]=1\n",
    "    else:\n",
    "        pred[i]=0\n",
    "\n",
    "# set total as the starting money\n",
    "total=df[0]\n",
    "# position is whether you are holding the stock or not. We start with not owning the stock but having just enough money to buy it\n",
    "position=False\n",
    "\n",
    "\n",
    "for i in range(len(pred)):\n",
    "    # if predicted the market to go up and don't have the stock, buy it\n",
    "    if pred[i]==1 and position==False:\n",
    "        total=total-df[i]\n",
    "        position=True\n",
    "    # if predicted the market to go down and own the stock, sell it\n",
    "    elif pred[i]==0 and position==True:\n",
    "        total=total+df[i]\n",
    "        position=False\n",
    "# sell the stock on the last day if holding it\n",
    "if position==True:\n",
    "    total=total+df[-1]\n",
    "\n",
    "print(\"Starting $:\")\n",
    "print(df[0]) \n",
    "print(\"Buy and hold at the end:\")\n",
    "print(df[-1])\n",
    "print(\"lSTM at the end:\")\n",
    "print(total)"
   ]
  },
  {
   "cell_type": "code",
   "execution_count": 4,
   "metadata": {},
   "outputs": [
    {
     "name": "stdout",
     "output_type": "stream",
     "text": [
      "directional accuracy: 0.6096256684491979\n",
      "+ accuracy: 0.5725806451612904\n",
      "- accuracy: 0.628\n",
      "% of + prediction: 0.3315508021390374\n"
     ]
    }
   ],
   "source": [
    "## this block returns the model performance in following terms:\n",
    "## directional accuracy, + accuracy, - accuracy, and % of + prediction\n",
    "\n",
    "# set counters\n",
    "positive=0\n",
    "negative=0\n",
    "f_positive=0\n",
    "f_negative=0\n",
    "\n",
    "for i in range(len(pred)):\n",
    "    # if predicted up and correct, positive \n",
    "    if pred[i]==1 and df[i+1]>=df[i]:\n",
    "        positive=positive+1\n",
    "    # if predcited up and wrong, f_positive\n",
    "    elif pred[i]==1 and df[i+1]<df[i]:\n",
    "        f_positive= f_positive+1\n",
    "    # if predcited down and correct, negative\n",
    "    elif pred[i]==0 and df[i+1]<df[i]:\n",
    "        negative=negative+1\n",
    "    # if predcited down and wrong, f_negative\n",
    "    elif pred[i]==0 and df[i+1]>=df[i]:\n",
    "        f_negative=f_negative+1\n",
    "\n",
    "# return values\n",
    "print ('directional accuracy: '+str((positive+negative)/len(pred)))\n",
    "print ('+ accuracy: '+str(positive/(positive+f_positive)))\n",
    "print ('- accuracy: '+str(negative/(negative+f_negative)))\n",
    "print ('% of + prediction: '+str((positive+f_positive)/len(pred)))"
   ]
  }
 ],
 "metadata": {
  "kernelspec": {
   "display_name": "Python 3.7 (tensorflow)",
   "language": "python",
   "name": "tensorflow"
  },
  "language_info": {
   "codemirror_mode": {
    "name": "ipython",
    "version": 3
   },
   "file_extension": ".py",
   "mimetype": "text/x-python",
   "name": "python",
   "nbconvert_exporter": "python",
   "pygments_lexer": "ipython3",
   "version": "3.7.6"
  }
 },
 "nbformat": 4,
 "nbformat_minor": 2
}
